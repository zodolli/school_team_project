{
 "cells": [
  {
   "cell_type": "code",
   "execution_count": 1,
   "id": "895bbae5",
   "metadata": {},
   "outputs": [
    {
     "name": "stdout",
     "output_type": "stream",
     "text": [
      "0.9.1\n"
     ]
    }
   ],
   "source": [
    "import numpy as np\n",
    "import pandas as pd\n",
    "import seaborn as sns\n",
    "import matplotlib.pyplot as plt \n",
    "import warnings\n",
    "warnings.filterwarnings('ignore') \n",
    "from sklearn import preprocessing\n",
    "from tqdm.auto import tqdm\n",
    "from collections import Counter\n",
    "from matplotlib import pyplot\n",
    "from pandas import DataFrame\n",
    "import imblearn\n",
    "print(imblearn.__version__) "
   ]
  },
  {
   "cell_type": "code",
   "execution_count": 2,
   "id": "5dfae884",
   "metadata": {},
   "outputs": [
    {
     "name": "stdout",
     "output_type": "stream",
     "text": [
      "0.9.1\n"
     ]
    }
   ],
   "source": [
    "import imblearn\n",
    "print(imblearn.__version__)\n",
    "\n",
    "def count_and_plot(y): \n",
    "    counter = Counter(y)\n",
    "    for k,v in counter.items():\n",
    "        print('Class=%d, n=%d (%.3f%%)' % (k, v, v / len(y) * 100))\n",
    "    pyplot.bar(counter.keys(), counter.values())\n",
    "    pyplot.show() "
   ]
  },
  {
   "cell_type": "code",
   "execution_count": 3,
   "id": "62a881e8",
   "metadata": {},
   "outputs": [],
   "source": [
    "df=pd.read_csv(\"train.csv\")"
   ]
  },
  {
   "cell_type": "code",
   "execution_count": 4,
   "id": "e1d66faa",
   "metadata": {},
   "outputs": [
    {
     "data": {
      "text/plain": [
       "(58592, 44)"
      ]
     },
     "execution_count": 4,
     "metadata": {},
     "output_type": "execute_result"
    }
   ],
   "source": [
    "df.shape"
   ]
  },
  {
   "cell_type": "code",
   "execution_count": 5,
   "id": "f3d6e3b3",
   "metadata": {},
   "outputs": [
    {
     "data": {
      "application/vnd.jupyter.widget-view+json": {
       "model_id": "0738f03d92a7463fa63680ce90ec2251",
       "version_major": 2,
       "version_minor": 0
      },
      "text/plain": [
       "  0%|          | 0/44 [00:00<?, ?it/s]"
      ]
     },
     "metadata": {},
     "output_type": "display_data"
    }
   ],
   "source": [
    "for columns in tqdm(df.columns):\n",
    "    if dict(df.dtypes)[columns] == 'object':        \n",
    "        label_encoder = preprocessing.LabelEncoder()\n",
    "        df[columns] = label_encoder.fit_transform(df[columns])\n",
    " "
   ]
  },
  {
   "cell_type": "code",
   "execution_count": 6,
   "id": "0b3fba90",
   "metadata": {},
   "outputs": [
    {
     "data": {
      "text/plain": [
       "Counter({0: 54844, 1: 3748})"
      ]
     },
     "execution_count": 6,
     "metadata": {},
     "output_type": "execute_result"
    }
   ],
   "source": [
    "from collections import Counter \n",
    "Counter(df.is_claim) "
   ]
  },
  {
   "cell_type": "code",
   "execution_count": 7,
   "id": "eb25cf35",
   "metadata": {},
   "outputs": [
    {
     "data": {
      "text/plain": [
       "<AxesSubplot:>"
      ]
     },
     "execution_count": 7,
     "metadata": {},
     "output_type": "execute_result"
    },
    {
     "data": {
      "image/png": "[encoded data removed]",
      "text/plain": [
       "<Figure size 432x288 with 1 Axes>"
      ]
     },
     "metadata": {
      "needs_background": "light"
     },
     "output_type": "display_data"
    }
   ],
   "source": [
    "sns.barplot(x = [0, 1], y = [54844, 3784]) "
   ]
  },
  {
   "cell_type": "code",
   "execution_count": 8,
   "id": "ea962382",
   "metadata": {
    "scrolled": true
   },
   "outputs": [
    {
     "data": {
      "text/plain": [
       "policy_id                           0\n",
       "policy_tenure                       0\n",
       "age_of_car                          0\n",
       "age_of_policyholder                 0\n",
       "area_cluster                        0\n",
       "population_density                  0\n",
       "make                                0\n",
       "segment                             0\n",
       "model                               0\n",
       "fuel_type                           0\n",
       "max_torque                          0\n",
       "max_power                           0\n",
       "engine_type                         0\n",
       "airbags                             0\n",
       "is_esc                              0\n",
       "is_adjustable_steering              0\n",
       "is_tpms                             0\n",
       "is_parking_sensors                  0\n",
       "is_parking_camera                   0\n",
       "rear_brakes_type                    0\n",
       "displacement                        0\n",
       "cylinder                            0\n",
       "transmission_type                   0\n",
       "gear_box                            0\n",
       "steering_type                       0\n",
       "turning_radius                      0\n",
       "length                              0\n",
       "width                               0\n",
       "height                              0\n",
       "gross_weight                        0\n",
       "is_front_fog_lights                 0\n",
       "is_rear_window_wiper                0\n",
       "is_rear_window_washer               0\n",
       "is_rear_window_defogger             0\n",
       "is_brake_assist                     0\n",
       "is_power_door_locks                 0\n",
       "is_central_locking                  0\n",
       "is_power_steering                   0\n",
       "is_driver_seat_height_adjustable    0\n",
       "is_day_night_rear_view_mirror       0\n",
       "is_ecw                              0\n",
       "is_speed_alert                      0\n",
       "ncap_rating                         0\n",
       "is_claim                            0\n",
       "dtype: int64"
      ]
     },
     "execution_count": 8,
     "metadata": {},
     "output_type": "execute_result"
    }
   ],
   "source": [
    "df.isnull().sum()"
   ]
  },
  {
   "cell_type": "code",
   "execution_count": 9,
   "id": "9b97f8e3",
   "metadata": {},
   "outputs": [
    {
     "name": "stdout",
     "output_type": "stream",
     "text": [
      "<class 'pandas.core.frame.DataFrame'>\n",
      "RangeIndex: 58592 entries, 0 to 58591\n",
      "Data columns (total 44 columns):\n",
      " #   Column                            Non-Null Count  Dtype  \n",
      "---  ------                            --------------  -----  \n",
      " 0   policy_id                         58592 non-null  int64  \n",
      " 1   policy_tenure                     58592 non-null  float64\n",
      " 2   age_of_car                        58592 non-null  float64\n",
      " 3   age_of_policyholder               58592 non-null  float64\n",
      " 4   area_cluster                      58592 non-null  int64  \n",
      " 5   population_density                58592 non-null  int64  \n",
      " 6   make                              58592 non-null  int64  \n",
      " 7   segment                           58592 non-null  int64  \n",
      " 8   model                             58592 non-null  int64  \n",
      " 9   fuel_type                         58592 non-null  int64  \n",
      " 10  max_torque                        58592 non-null  int64  \n",
      " 11  max_power                         58592 non-null  int64  \n",
      " 12  engine_type                       58592 non-null  int64  \n",
      " 13  airbags                           58592 non-null  int64  \n",
      " 14  is_esc                            58592 non-null  int64  \n",
      " 15  is_adjustable_steering            58592 non-null  int64  \n",
      " 16  is_tpms                           58592 non-null  int64  \n",
      " 17  is_parking_sensors                58592 non-null  int64  \n",
      " 18  is_parking_camera                 58592 non-null  int64  \n",
      " 19  rear_brakes_type                  58592 non-null  int64  \n",
      " 20  displacement                      58592 non-null  int64  \n",
      " 21  cylinder                          58592 non-null  int64  \n",
      " 22  transmission_type                 58592 non-null  int64  \n",
      " 23  gear_box                          58592 non-null  int64  \n",
      " 24  steering_type                     58592 non-null  int64  \n",
      " 25  turning_radius                    58592 non-null  float64\n",
      " 26  length                            58592 non-null  int64  \n",
      " 27  width                             58592 non-null  int64  \n",
      " 28  height                            58592 non-null  int64  \n",
      " 29  gross_weight                      58592 non-null  int64  \n",
      " 30  is_front_fog_lights               58592 non-null  int64  \n",
      " 31  is_rear_window_wiper              58592 non-null  int64  \n",
      " 32  is_rear_window_washer             58592 non-null  int64  \n",
      " 33  is_rear_window_defogger           58592 non-null  int64  \n",
      " 34  is_brake_assist                   58592 non-null  int64  \n",
      " 35  is_power_door_locks               58592 non-null  int64  \n",
      " 36  is_central_locking                58592 non-null  int64  \n",
      " 37  is_power_steering                 58592 non-null  int64  \n",
      " 38  is_driver_seat_height_adjustable  58592 non-null  int64  \n",
      " 39  is_day_night_rear_view_mirror     58592 non-null  int64  \n",
      " 40  is_ecw                            58592 non-null  int64  \n",
      " 41  is_speed_alert                    58592 non-null  int64  \n",
      " 42  ncap_rating                       58592 non-null  int64  \n",
      " 43  is_claim                          58592 non-null  int64  \n",
      "dtypes: float64(4), int64(40)\n",
      "memory usage: 19.7 MB\n"
     ]
    }
   ],
   "source": [
    "df.info()"
   ]
  },
  {
   "cell_type": "code",
   "execution_count": 10,
   "id": "58693c25",
   "metadata": {},
   "outputs": [],
   "source": [
    "df=df.drop([\"policy_id\"],axis=1)   "
   ]
  },
  {
   "cell_type": "code",
   "execution_count": 11,
   "id": "353c061c",
   "metadata": {},
   "outputs": [
    {
     "name": "stdout",
     "output_type": "stream",
     "text": [
      "<class 'pandas.core.frame.DataFrame'>\n",
      "RangeIndex: 58592 entries, 0 to 58591\n",
      "Data columns (total 43 columns):\n",
      " #   Column                            Non-Null Count  Dtype  \n",
      "---  ------                            --------------  -----  \n",
      " 0   policy_tenure                     58592 non-null  float64\n",
      " 1   age_of_car                        58592 non-null  float64\n",
      " 2   age_of_policyholder               58592 non-null  float64\n",
      " 3   area_cluster                      58592 non-null  int64  \n",
      " 4   population_density                58592 non-null  int64  \n",
      " 5   make                              58592 non-null  int64  \n",
      " 6   segment                           58592 non-null  int64  \n",
      " 7   model                             58592 non-null  int64  \n",
      " 8   fuel_type                         58592 non-null  int64  \n",
      " 9   max_torque                        58592 non-null  int64  \n",
      " 10  max_power                         58592 non-null  int64  \n",
      " 11  engine_type                       58592 non-null  int64  \n",
      " 12  airbags                           58592 non-null  int64  \n",
      " 13  is_esc                            58592 non-null  int64  \n",
      " 14  is_adjustable_steering            58592 non-null  int64  \n",
      " 15  is_tpms                           58592 non-null  int64  \n",
      " 16  is_parking_sensors                58592 non-null  int64  \n",
      " 17  is_parking_camera                 58592 non-null  int64  \n",
      " 18  rear_brakes_type                  58592 non-null  int64  \n",
      " 19  displacement                      58592 non-null  int64  \n",
      " 20  cylinder                          58592 non-null  int64  \n",
      " 21  transmission_type                 58592 non-null  int64  \n",
      " 22  gear_box                          58592 non-null  int64  \n",
      " 23  steering_type                     58592 non-null  int64  \n",
      " 24  turning_radius                    58592 non-null  float64\n",
      " 25  length                            58592 non-null  int64  \n",
      " 26  width                             58592 non-null  int64  \n",
      " 27  height                            58592 non-null  int64  \n",
      " 28  gross_weight                      58592 non-null  int64  \n",
      " 29  is_front_fog_lights               58592 non-null  int64  \n",
      " 30  is_rear_window_wiper              58592 non-null  int64  \n",
      " 31  is_rear_window_washer             58592 non-null  int64  \n",
      " 32  is_rear_window_defogger           58592 non-null  int64  \n",
      " 33  is_brake_assist                   58592 non-null  int64  \n",
      " 34  is_power_door_locks               58592 non-null  int64  \n",
      " 35  is_central_locking                58592 non-null  int64  \n",
      " 36  is_power_steering                 58592 non-null  int64  \n",
      " 37  is_driver_seat_height_adjustable  58592 non-null  int64  \n",
      " 38  is_day_night_rear_view_mirror     58592 non-null  int64  \n",
      " 39  is_ecw                            58592 non-null  int64  \n",
      " 40  is_speed_alert                    58592 non-null  int64  \n",
      " 41  ncap_rating                       58592 non-null  int64  \n",
      " 42  is_claim                          58592 non-null  int64  \n",
      "dtypes: float64(4), int64(39)\n",
      "memory usage: 19.2 MB\n"
     ]
    }
   ],
   "source": [
    "df.info()"
   ]
  },
  {
   "cell_type": "code",
   "execution_count": 12,
   "id": "86b5128c",
   "metadata": {},
   "outputs": [],
   "source": [
    "from sklearn.feature_selection import f_regression, chi2, SelectKBest "
   ]
  },
  {
   "cell_type": "code",
   "execution_count": 13,
   "id": "c5334591",
   "metadata": {},
   "outputs": [],
   "source": [
    "y = df['is_claim']\n",
    "X = df.drop(['is_claim'], axis=1)"
   ]
  },
  {
   "cell_type": "code",
   "execution_count": 14,
   "id": "332210b1",
   "metadata": {},
   "outputs": [],
   "source": [
    "selector=SelectKBest(score_func=f_regression,k=20)\n",
    "x_selected=selector.fit_transform(X,y) "
   ]
  },
  {
   "cell_type": "code",
   "execution_count": 15,
   "id": "1116f040",
   "metadata": {},
   "outputs": [
    {
     "name": "stdout",
     "output_type": "stream",
     "text": [
      "Selected naems:  Index(['policy_tenure', 'age_of_car', 'age_of_policyholder', 'area_cluster',\n",
      "       'population_density', 'fuel_type', 'max_torque', 'max_power',\n",
      "       'is_adjustable_steering', 'is_parking_sensors', 'displacement',\n",
      "       'cylinder', 'steering_type', 'width', 'is_front_fog_lights',\n",
      "       'is_brake_assist', 'is_driver_seat_height_adjustable',\n",
      "       'is_day_night_rear_view_mirror', 'is_ecw', 'is_speed_alert'],\n",
      "      dtype='object')\n"
     ]
    }
   ],
   "source": [
    "all_names=X.columns\n",
    "selected_mask=selector.get_support() \n",
    "selected_names=all_names[selected_mask]\n",
    "print('Selected naems: ', selected_names) "
   ]
  },
  {
   "cell_type": "code",
   "execution_count": 16,
   "id": "272a2b66",
   "metadata": {},
   "outputs": [],
   "source": [
    "features_20=['policy_tenure', 'age_of_car', 'age_of_policyholder', 'area_cluster',\n",
    "       'population_density', 'fuel_type', 'max_torque', 'max_power',\n",
    "       'is_adjustable_steering', 'is_parking_sensors', 'displacement',\n",
    "       'cylinder', 'steering_type', 'width', 'is_front_fog_lights',\n",
    "       'is_brake_assist', 'is_driver_seat_height_adjustable',\n",
    "       'is_day_night_rear_view_mirror', 'is_ecw', 'is_speed_alert']"
   ]
  },
  {
   "cell_type": "code",
   "execution_count": 17,
   "id": "25b4d575",
   "metadata": {},
   "outputs": [
    {
     "name": "stdout",
     "output_type": "stream",
     "text": [
      "Class=1, n=2587 (6.308%)\n",
      "Class=0, n=38427 (93.692%)\n"
     ]
    },
    {
     "data": {
      "image/png": "[encoded data removed]",
      "text/plain": [
       "<Figure size 432x288 with 1 Axes>"
      ]
     },
     "metadata": {
      "needs_background": "light"
     },
     "output_type": "display_data"
    }
   ],
   "source": [
    "from sklearn.model_selection import train_test_split #train,test set 분리\n",
    "\n",
    "train_x, test_x, train_y, test_y = train_test_split(X[features_20], y, test_size=0.3, random_state=42)\n",
    "count_and_plot(train_y)"
   ]
  },
  {
   "cell_type": "code",
   "execution_count": 18,
   "id": "33f4bab2",
   "metadata": {},
   "outputs": [
    {
     "name": "stdout",
     "output_type": "stream",
     "text": [
      "SMOTE 적용 전 학습용 피처/레이블 데이터 세트:  (41014, 20) (41014,)\n",
      "SMOTE 적용 후 학습용 피처/레이블 데이터 세트:  (69168, 20) (69168,)\n",
      "SMOTE 적용 전 레이블 값 분포:\n",
      " 0    38427\n",
      "1     2587\n",
      "Name: is_claim, dtype: int64\n",
      "SMOTE 적용 후 레이블 값 분포: \n",
      " 0    38427\n",
      "1    30741\n",
      "Name: is_claim, dtype: int64\n",
      "Class=1, n=30741 (44.444%)\n",
      "Class=0, n=38427 (55.556%)\n"
     ]
    },
    {
     "data": {
      "image/png": "[encoded data removed]",
      "text/plain": [
       "<Figure size 432x288 with 1 Axes>"
      ]
     },
     "metadata": {
      "needs_background": "light"
     },
     "output_type": "display_data"
    }
   ],
   "source": [
    "from imblearn.over_sampling import SMOTE\n",
    "smote = SMOTE(random_state=12, sampling_strategy=0.8) \n",
    "train_x_over,train_y_over = smote.fit_resample(train_x[features_20],train_y)\n",
    "print('SMOTE 적용 전 학습용 피처/레이블 데이터 세트: ', train_x[features_20].shape, train_y.shape)\n",
    "print('SMOTE 적용 후 학습용 피처/레이블 데이터 세트: ', train_x_over.shape, train_y_over.shape)\n",
    "print('SMOTE 적용 전 레이블 값 분포:\\n',pd.Series(train_y).value_counts())\n",
    "print('SMOTE 적용 후 레이블 값 분포: \\n', pd.Series(train_y_over).value_counts())\n",
    "count_and_plot(train_y_over) "
   ]
  },
  {
   "cell_type": "code",
   "execution_count": 19,
   "id": "28a7e00e",
   "metadata": {},
   "outputs": [],
   "source": [
    "from sklearn.preprocessing import StandardScaler,MinMaxScaler   \n",
    "scaler=StandardScaler() \n",
    "scaler.fit(train_x_over[features_20])\n",
    "df_scaled=scaler.transform(train_x_over[features_20]) \n",
    "df_scaled=pd.DataFrame(data=df_scaled, columns=train_x_over[features_20].columns) "
   ]
  },
  {
   "cell_type": "code",
   "execution_count": 20,
   "id": "35bd9448",
   "metadata": {},
   "outputs": [],
   "source": [
    "from sklearn.ensemble import GradientBoostingClassifier\n",
    "from sklearn.linear_model import LogisticRegression\n",
    "from xgboost import XGBClassifier\n",
    "from sklearn.linear_model import LogisticRegression\n",
    "from sklearn.neighbors import KNeighborsClassifier\n",
    "from sklearn.svm import SVC\n",
    "from sklearn.naive_bayes import GaussianNB\n",
    "from sklearn.tree import DecisionTreeClassifier\n",
    "from sklearn.linear_model import SGDClassifier\n",
    "from sklearn.ensemble import RandomForestClassifier\n",
    "from sklearn.ensemble import AdaBoostClassifier\n",
    "from sklearn.model_selection import GridSearchCV \n",
    "from sklearn.neural_network import MLPClassifier\n",
    "from sklearn.metrics import confusion_matrix, accuracy_score, roc_curve, classification_report,precision_score,recall_score,f1_score  "
   ]
  },
  {
   "cell_type": "markdown",
   "id": "ec79b2ab",
   "metadata": {},
   "source": [
    "# model random forest"
   ]
  },
  {
   "cell_type": "code",
   "execution_count": 21,
   "id": "972ab462",
   "metadata": {},
   "outputs": [
    {
     "name": "stdout",
     "output_type": "stream",
     "text": [
      "accuracy:  0.9338946410285585\n",
      "precision:  0.3333333333333333\n",
      "recall:  0.0008613264427217916\n",
      "\n",
      "f1_score:  0.0017182130584192437\n",
      "[[16415     2]\n",
      " [ 1160     1]]\n"
     ]
    }
   ],
   "source": [
    "from sklearn.ensemble import RandomForestClassifier  #randomforest 모델\n",
    "m3 = 'Random Forest Classfier'\n",
    "rf = RandomForestClassifier(n_estimators=1000,\n",
    "                         criterion='gini',\n",
    "                         max_depth=12,\n",
    "                         max_features='log2',\n",
    "                         min_samples_leaf=1,\n",
    "                         min_samples_split=5,\n",
    "                         random_state=42)\n",
    "rf.fit(df_scaled,train_y_over)\n",
    "rf_predicted = rf.predict(test_x[features_20])\n",
    "rf_confusion_matrix=confusion_matrix(test_y,rf_predicted)  \n",
    "rf_accuracy=accuracy_score(test_y, rf_predicted) \n",
    "rf_precision=precision_score(test_y,rf_predicted)\n",
    "rf_recall=recall_score(test_y,rf_predicted) \n",
    "rf_f1score=f1_score(test_y, rf_predicted)  \n",
    "print('accuracy: ',rf_accuracy)\n",
    "print('precision: ',rf_precision)\n",
    "print('recall: ' ,rf_recall) \n",
    "print(\"\") \n",
    "print('f1_score: ',rf_f1score)   \n",
    "print(rf_confusion_matrix)\n",
    "\n",
    "# randomstate=0"
   ]
  },
  {
   "cell_type": "markdown",
   "id": "4f75552f",
   "metadata": {},
   "source": [
    "# model gradient boosting  "
   ]
  },
  {
   "cell_type": "code",
   "execution_count": 22,
   "id": "7348875a",
   "metadata": {},
   "outputs": [
    {
     "name": "stdout",
     "output_type": "stream",
     "text": [
      "gb_accuracy:  0.9339515303219934\n",
      "gb_precision:  0.0\n",
      "gb_recall:  0.0\n",
      "gb_f1-score:  0.0\n",
      "\n",
      "[[16417     0]\n",
      " [ 1161     0]]\n"
     ]
    }
   ],
   "source": [
    "from sklearn.ensemble import GradientBoostingClassifier \n",
    "gb = GradientBoostingClassifier(n_estimators=300,max_features='log2',learning_rate=1.8,max_depth=1, random_state=99) \n",
    "gb.fit(df_scaled,train_y_over) \n",
    "gb_predicted=gb.predict(test_x[features_20])\n",
    "gb_confusion_matrix=confusion_matrix(test_y,gb_predicted) \n",
    "gb_recall=recall_score(test_y,gb_predicted)\n",
    "gb_precision=precision_score(test_y,gb_predicted) \n",
    "gb_f1score=f1_score(test_y, gb_predicted) \n",
    "gb_accuracy=accuracy_score(test_y,gb_predicted) \n",
    "print('gb_accuracy: ', gb_accuracy)\n",
    "print('gb_precision: ',gb_precision)\n",
    "print('gb_recall: ' ,gb_recall) \n",
    "print('gb_f1-score: ',gb_f1score)   \n",
    "print(\"\")\n",
    "print(gb_confusion_matrix) \n"
   ]
  },
  {
   "cell_type": "markdown",
   "id": "fce5fba3",
   "metadata": {},
   "source": [
    "# model ada boost  "
   ]
  },
  {
   "cell_type": "code",
   "execution_count": 23,
   "id": "374b4d17",
   "metadata": {},
   "outputs": [
    {
     "name": "stdout",
     "output_type": "stream",
     "text": [
      "AdaBoost Classifier Training Accuracy: 91.83148276659728\n",
      "ada_accuracy:  0.0660484696780066\n",
      "ada_precision:  0.0\n",
      "ada_recall:  1.0\n",
      "ada_f1-score:  0.12391269544799614\n",
      "\n",
      "[[    0 16417]\n",
      " [    0  1161]]\n"
     ]
    }
   ],
   "source": [
    "from sklearn.ensemble import AdaBoostClassifier\n",
    "Ada = AdaBoostClassifier(n_estimators=2000)\n",
    "Ada.fit(df_scaled, train_y_over)\n",
    "print('AdaBoost Classifier Training Accuracy:', Ada.score(df_scaled, train_y_over)*100) \n",
    "ada_predicted=Ada.predict(test_x[features_20])\n",
    "ada_f1score=f1_score(test_y, ada_predicted)  \n",
    "ada_confusion_matrix=confusion_matrix(test_y,ada_predicted)  \n",
    "ada_recall=recall_score(test_y,ada_predicted)\n",
    "ada_precision=precision_score(test_y,gb_predicted) \n",
    "ada_accuracy=accuracy_score(test_y,ada_predicted) \n",
    "print('ada_accuracy: ', ada_accuracy)\n",
    "print('ada_precision: ',ada_precision)\n",
    "print('ada_recall: ' ,ada_recall) \n",
    "print('ada_f1-score: ',ada_f1score)   \n",
    "print(\"\")\n",
    "print(ada_confusion_matrix) "
   ]
  },
  {
   "cell_type": "markdown",
   "id": "b176bd47",
   "metadata": {},
   "source": [
    "# model NN"
   ]
  },
  {
   "cell_type": "code",
   "execution_count": 24,
   "id": "13ba0eea",
   "metadata": {
    "scrolled": false
   },
   "outputs": [
    {
     "name": "stdout",
     "output_type": "stream",
     "text": [
      "RUNNING THE L-BFGS-B CODE\n",
      "\n",
      "           * * *\n",
      "\n",
      "Machine precision = 2.220D-16\n",
      " N =         4097     M =           10\n",
      "\n",
      "At X0         0 variables are exactly at the bounds\n",
      "\n",
      "At iterate    0    f=  6.96875D-01    |proj g|=  5.35741D-02\n",
      "\n",
      "At iterate    1    f=  6.96663D-01    |proj g|=  7.83477D-02\n"
     ]
    },
    {
     "name": "stderr",
     "output_type": "stream",
     "text": [
      " This problem is unconstrained.\n"
     ]
    },
    {
     "name": "stdout",
     "output_type": "stream",
     "text": [
      "\n",
      "At iterate    2    f=  6.87229D-01    |proj g|=  4.45147D-02\n",
      "\n",
      "At iterate    3    f=  6.80205D-01    |proj g|=  7.45020D-03\n",
      "\n",
      "At iterate    4    f=  6.78061D-01    |proj g|=  3.78859D-02\n",
      "\n",
      "At iterate    5    f=  6.74436D-01    |proj g|=  2.42383D-02\n",
      "\n",
      "At iterate    6    f=  6.67048D-01    |proj g|=  1.45450D-02\n",
      "\n",
      "At iterate    7    f=  6.58849D-01    |proj g|=  7.94151D-03\n",
      "\n",
      "At iterate    8    f=  6.55057D-01    |proj g|=  6.37667D-03\n",
      "\n",
      "At iterate    9    f=  6.52230D-01    |proj g|=  7.58341D-03\n",
      "\n",
      "At iterate   10    f=  6.48659D-01    |proj g|=  6.26076D-03\n",
      "\n",
      "At iterate   11    f=  6.45720D-01    |proj g|=  5.65009D-03\n",
      "\n",
      "At iterate   12    f=  6.44761D-01    |proj g|=  1.22305D-02\n",
      "\n",
      "At iterate   13    f=  6.42312D-01    |proj g|=  8.88790D-03\n",
      "\n",
      "At iterate   14    f=  6.41378D-01    |proj g|=  4.76476D-03\n",
      "\n",
      "At iterate   15    f=  6.40458D-01    |proj g|=  5.39327D-03\n",
      "\n",
      "At iterate   16    f=  6.38244D-01    |proj g|=  5.13632D-03\n",
      "\n",
      "At iterate   17    f=  6.35428D-01    |proj g|=  1.07699D-02\n",
      "\n",
      "At iterate   18    f=  6.33760D-01    |proj g|=  1.03757D-02\n",
      "\n",
      "At iterate   19    f=  6.32542D-01    |proj g|=  6.41367D-03\n",
      "\n",
      "At iterate   20    f=  6.31118D-01    |proj g|=  7.90346D-03\n",
      "\n",
      "At iterate   21    f=  6.30099D-01    |proj g|=  8.81811D-03\n",
      "\n",
      "At iterate   22    f=  6.28818D-01    |proj g|=  8.22267D-03\n",
      "\n",
      "At iterate   23    f=  6.27057D-01    |proj g|=  6.77074D-03\n",
      "\n",
      "At iterate   24    f=  6.25389D-01    |proj g|=  7.48072D-03\n",
      "\n",
      "At iterate   25    f=  6.23989D-01    |proj g|=  9.78517D-03\n",
      "\n",
      "At iterate   26    f=  6.22999D-01    |proj g|=  8.90667D-03\n",
      "\n",
      "At iterate   27    f=  6.22230D-01    |proj g|=  4.24870D-03\n",
      "\n",
      "At iterate   28    f=  6.21249D-01    |proj g|=  3.05336D-03\n",
      "\n",
      "At iterate   29    f=  6.20406D-01    |proj g|=  5.54315D-03\n",
      "\n",
      "At iterate   30    f=  6.19071D-01    |proj g|=  4.56920D-03\n",
      "\n",
      "At iterate   31    f=  6.17895D-01    |proj g|=  9.34868D-03\n",
      "\n",
      "At iterate   32    f=  6.16412D-01    |proj g|=  6.41407D-03\n",
      "\n",
      "At iterate   33    f=  6.15562D-01    |proj g|=  7.38431D-03\n",
      "\n",
      "At iterate   34    f=  6.14903D-01    |proj g|=  4.19422D-03\n",
      "\n",
      "At iterate   35    f=  6.14149D-01    |proj g|=  6.68003D-03\n",
      "\n",
      "At iterate   36    f=  6.13290D-01    |proj g|=  4.70083D-03\n",
      "\n",
      "At iterate   37    f=  6.11967D-01    |proj g|=  5.61081D-03\n",
      "\n",
      "At iterate   38    f=  6.11438D-01    |proj g|=  1.19746D-02\n",
      "\n",
      "At iterate   39    f=  6.10605D-01    |proj g|=  4.72464D-03\n",
      "\n",
      "At iterate   40    f=  6.10020D-01    |proj g|=  4.65666D-03\n",
      "\n",
      "At iterate   41    f=  6.09150D-01    |proj g|=  5.74974D-03\n",
      "\n",
      "At iterate   42    f=  6.08052D-01    |proj g|=  6.26761D-03\n",
      "\n",
      "At iterate   43    f=  6.07410D-01    |proj g|=  1.61562D-02\n",
      "\n",
      "At iterate   44    f=  6.06581D-01    |proj g|=  8.17531D-03\n",
      "\n",
      "At iterate   45    f=  6.06210D-01    |proj g|=  4.36768D-03\n",
      "\n",
      "At iterate   46    f=  6.05605D-01    |proj g|=  7.14378D-03\n",
      "\n",
      "At iterate   47    f=  6.04563D-01    |proj g|=  5.71501D-03\n",
      "\n",
      "At iterate   48    f=  6.03859D-01    |proj g|=  4.18482D-03\n",
      "\n",
      "At iterate   49    f=  6.03126D-01    |proj g|=  6.68558D-03\n",
      "\n",
      "At iterate   50    f=  6.02786D-01    |proj g|=  7.81476D-03\n",
      "\n",
      "At iterate   51    f=  6.02431D-01    |proj g|=  4.39328D-03\n",
      "\n",
      "At iterate   52    f=  6.02033D-01    |proj g|=  3.93931D-03\n",
      "\n",
      "At iterate   53    f=  6.01457D-01    |proj g|=  3.67448D-03\n",
      "\n",
      "At iterate   54    f=  6.00782D-01    |proj g|=  6.03507D-03\n",
      "\n",
      "At iterate   55    f=  6.00434D-01    |proj g|=  1.44280D-02\n",
      "\n",
      "At iterate   56    f=  5.99858D-01    |proj g|=  6.06615D-03\n",
      "\n",
      "At iterate   57    f=  5.99352D-01    |proj g|=  5.48987D-03\n",
      "\n",
      "At iterate   58    f=  5.98691D-01    |proj g|=  5.39059D-03\n",
      "\n",
      "At iterate   59    f=  5.98036D-01    |proj g|=  1.70587D-02\n",
      "\n",
      "At iterate   60    f=  5.97533D-01    |proj g|=  6.43653D-03\n",
      "\n",
      "At iterate   61    f=  5.97262D-01    |proj g|=  4.78592D-03\n",
      "\n",
      "At iterate   62    f=  5.96963D-01    |proj g|=  5.75964D-03\n",
      "\n",
      "At iterate   63    f=  5.96418D-01    |proj g|=  4.75999D-03\n",
      "\n",
      "At iterate   64    f=  5.95924D-01    |proj g|=  5.13220D-03\n",
      "\n",
      "At iterate   65    f=  5.95394D-01    |proj g|=  2.84373D-03\n",
      "\n",
      "At iterate   66    f=  5.94886D-01    |proj g|=  1.90896D-02\n",
      "\n",
      "At iterate   67    f=  5.94583D-01    |proj g|=  1.26659D-02\n",
      "\n",
      "At iterate   68    f=  5.94279D-01    |proj g|=  6.84622D-03\n",
      "\n",
      "At iterate   69    f=  5.93902D-01    |proj g|=  4.08293D-03\n",
      "\n",
      "At iterate   70    f=  5.93593D-01    |proj g|=  6.13221D-03\n",
      "\n",
      "At iterate   71    f=  5.93025D-01    |proj g|=  8.00130D-03\n",
      "\n",
      "At iterate   72    f=  5.92811D-01    |proj g|=  6.47890D-03\n",
      "\n",
      "At iterate   73    f=  5.92407D-01    |proj g|=  6.12740D-03\n",
      "\n",
      "At iterate   74    f=  5.91814D-01    |proj g|=  9.52897D-03\n",
      "\n",
      "At iterate   75    f=  5.91554D-01    |proj g|=  8.54208D-03\n",
      "\n",
      "At iterate   76    f=  5.91184D-01    |proj g|=  7.52278D-03\n",
      "\n",
      "At iterate   77    f=  5.90609D-01    |proj g|=  1.00111D-02\n",
      "\n",
      "At iterate   78    f=  5.90299D-01    |proj g|=  9.65301D-03\n",
      "\n",
      "At iterate   79    f=  5.89946D-01    |proj g|=  6.20542D-03\n",
      "\n",
      "At iterate   80    f=  5.89342D-01    |proj g|=  6.98066D-03\n",
      "\n",
      "At iterate   81    f=  5.88838D-01    |proj g|=  9.50236D-03\n",
      "\n",
      "At iterate   82    f=  5.88360D-01    |proj g|=  9.90114D-03\n",
      "\n",
      "At iterate   83    f=  5.88032D-01    |proj g|=  9.51123D-03\n",
      "\n",
      "At iterate   84    f=  5.87717D-01    |proj g|=  6.44756D-03\n",
      "\n",
      "At iterate   85    f=  5.87364D-01    |proj g|=  7.88140D-03\n",
      "\n",
      "At iterate   86    f=  5.86839D-01    |proj g|=  1.61614D-02\n",
      "\n",
      "At iterate   87    f=  5.86552D-01    |proj g|=  6.86544D-03\n",
      "\n",
      "At iterate   88    f=  5.86403D-01    |proj g|=  4.76189D-03\n",
      "\n",
      "At iterate   89    f=  5.86160D-01    |proj g|=  4.55747D-03\n",
      "\n",
      "At iterate   90    f=  5.85869D-01    |proj g|=  6.11761D-03\n",
      "\n",
      "At iterate   91    f=  5.85492D-01    |proj g|=  1.42125D-02\n",
      "\n",
      "At iterate   92    f=  5.85118D-01    |proj g|=  5.89775D-03\n",
      "\n",
      "At iterate   93    f=  5.84779D-01    |proj g|=  6.98016D-03\n",
      "\n",
      "At iterate   94    f=  5.84374D-01    |proj g|=  5.83198D-03\n",
      "\n",
      "At iterate   95    f=  5.84018D-01    |proj g|=  1.30041D-02\n",
      "\n",
      "At iterate   96    f=  5.83782D-01    |proj g|=  1.90174D-02\n",
      "\n",
      "At iterate   97    f=  5.83477D-01    |proj g|=  5.29098D-03\n",
      "\n",
      "At iterate   98    f=  5.83290D-01    |proj g|=  3.73459D-03\n",
      "\n",
      "At iterate   99    f=  5.83023D-01    |proj g|=  9.75214D-03\n",
      "\n",
      "At iterate  100    f=  5.82686D-01    |proj g|=  1.05348D-02\n",
      "\n",
      "           * * *\n",
      "\n",
      "Tit   = total number of iterations\n",
      "Tnf   = total number of function evaluations\n",
      "Tnint = total number of segments explored during Cauchy searches\n",
      "Skip  = number of BFGS updates skipped\n",
      "Nact  = number of active bounds at final generalized Cauchy point\n",
      "Projg = norm of the final projected gradient\n",
      "F     = final function value\n",
      "\n",
      "           * * *\n",
      "\n",
      "   N    Tit     Tnf  Tnint  Skip  Nact     Projg        F\n",
      " 4097    100    110      1     0     0   1.053D-02   5.827D-01\n",
      "  F =  0.58268638570452513     \n",
      "\n",
      "STOP: TOTAL NO. of ITERATIONS REACHED LIMIT                 \n",
      "NN_accuracy:  0.9339515303219934\n",
      "NN_precision:  0.0\n",
      "NN_recall:  0.0\n",
      "NN_f1-score:  0.0\n",
      "\n",
      "[[16417     0]\n",
      " [ 1161     0]]\n"
     ]
    }
   ],
   "source": [
    "mlp = MLPClassifier(hidden_layer_sizes=(64,32,16,8),learning_rate_init=0.0001,early_stopping=False, \n",
    "                    activation='relu', solver='lbfgs', max_iter=100, shuffle=True,verbose=True)\n",
    "mlp.fit(df_scaled,train_y_over) \n",
    "NN_predicted = mlp.predict(test_x[features_20])\n",
    "NN_confusion_matrix=confusion_matrix(test_y,NN_predicted) \n",
    "NN_recall=recall_score(test_y,NN_predicted)\n",
    "NN_precision=precision_score(test_y,NN_predicted) \n",
    "NN_f1score=f1_score(test_y, NN_predicted) \n",
    "NN_accuracy=accuracy_score(test_y,NN_predicted) \n",
    "print('NN_accuracy: ', NN_accuracy)\n",
    "print('NN_precision: ',NN_precision)\n",
    "print('NN_recall: ' ,NN_recall) \n",
    "print('NN_f1-score: ',NN_f1score)   \n",
    "print(\"\")\n",
    "print(NN_confusion_matrix) "
   ]
  },
  {
   "cell_type": "markdown",
   "id": "84f4bce8",
   "metadata": {},
   "source": [
    "# model Decision Tree "
   ]
  },
  {
   "cell_type": "code",
   "execution_count": 25,
   "id": "119ac044",
   "metadata": {},
   "outputs": [
    {
     "name": "stdout",
     "output_type": "stream",
     "text": [
      "dt_accuracy:  0.0660484696780066\n",
      "dt_precision:  0.0660484696780066\n",
      "dt_recall:  1.0\n",
      "dt_f1-score:  0.12391269544799614\n",
      "\n",
      "[[    0 16417]\n",
      " [    0  1161]]\n"
     ]
    }
   ],
   "source": [
    "from sklearn.metrics import confusion_matrix, accuracy_score, roc_curve, classification_report\n",
    "m4 = 'DecisionTreeClassifier'\n",
    "dt = DecisionTreeClassifier(criterion = 'entropy',random_state=0,max_depth = 4) \n",
    "dt.fit(df_scaled,train_y_over)\n",
    "dt_predicted = dt.predict(test_x[features_20])\n",
    "dt_confusion_matrix=confusion_matrix(test_y,dt_predicted) \n",
    "dt_recall=recall_score(test_y,dt_predicted)\n",
    "dt_precision=precision_score(test_y,dt_predicted) \n",
    "dt_f1score=f1_score(test_y, dt_predicted) \n",
    "dt_accuracy=accuracy_score(test_y,dt_predicted) \n",
    "print('dt_accuracy: ', dt_accuracy) \n",
    "print('dt_precision: ',dt_precision)\n",
    "print('dt_recall: ' ,dt_recall) \n",
    "print('dt_f1-score: ',dt_f1score)   \n",
    "print(\"\") \n",
    "print(dt_confusion_matrix) "
   ]
  },
  {
   "cell_type": "markdown",
   "id": "19d8b2ef",
   "metadata": {},
   "source": [
    "# model XGBoost "
   ]
  },
  {
   "cell_type": "code",
   "execution_count": 26,
   "id": "872c0266",
   "metadata": {},
   "outputs": [
    {
     "name": "stdout",
     "output_type": "stream",
     "text": [
      "xgb_accuracy:  0.0660484696780066\n",
      "xgb_precision:  0.0660484696780066\n",
      "xgb_recall:  1.0\n",
      "xgb_f1-score:  0.12391269544799614\n",
      "\n",
      "[[    0 16417]\n",
      " [    0  1161]]\n"
     ]
    }
   ],
   "source": [
    "xgb=XGBClassifier(random_state=0, n_estimators=300)\n",
    "xgb.fit(df_scaled,train_y_over) \n",
    "xgb_predicted=xgb.predict(test_x[features_20])\n",
    "xgb_confusion_matrix=confusion_matrix(test_y,xgb_predicted) \n",
    "xgb_recall=recall_score(test_y,xgb_predicted)\n",
    "xgb_precision=precision_score(test_y,xgb_predicted) \n",
    "xgb_f1score=f1_score(test_y, xgb_predicted) \n",
    "xgb_accuracy=accuracy_score(test_y,xgb_predicted) \n",
    "print('xgb_accuracy: ', xgb_accuracy) \n",
    "print('xgb_precision: ',xgb_precision)\n",
    "print('xgb_recall: ' ,xgb_recall) \n",
    "print('xgb_f1-score: ',xgb_f1score)   \n",
    "print(\"\") \n",
    "print(xgb_confusion_matrix) "
   ]
  },
  {
   "cell_type": "markdown",
   "id": "43088107",
   "metadata": {},
   "source": [
    "# model Logistic regression"
   ]
  },
  {
   "cell_type": "code",
   "execution_count": 27,
   "id": "96f3b875",
   "metadata": {},
   "outputs": [
    {
     "name": "stdout",
     "output_type": "stream",
     "text": [
      "lr_accuracy:  0.10894299692797815\n",
      "lr_precision:  0.0667423518164436\n",
      "lr_recall:  0.9621016365202412\n",
      "lr_F1-score:  0.12482538973012239\n",
      "\n",
      "[[  798 15619]\n",
      " [   44  1117]]\n"
     ]
    }
   ],
   "source": [
    "from sklearn.linear_model import LogisticRegression #logistic회귀분석\n",
    "m1 = 'LogisticRegression'\n",
    "lr = LogisticRegression(random_state=1, max_iter=1000)\n",
    "lr.fit(df_scaled, train_y_over)\n",
    "lr_predicted = lr.predict(test_x[features_20])\n",
    "lr_confusion_matrix = confusion_matrix(test_y, lr_predicted)\n",
    "lr_accuracy = accuracy_score(test_y, lr_predicted)  \n",
    "lr_recall=recall_score(test_y,lr_predicted)\n",
    "lr_precision=precision_score(test_y,lr_predicted) \n",
    "lr_f1score=f1_score(test_y, lr_predicted)  \n",
    "print('lr_accuracy: ', lr_accuracy)\n",
    "print('lr_precision: ',lr_precision)\n",
    "print('lr_recall: ' ,lr_recall)\n",
    "print('lr_F1-score: ',lr_f1score)  \n",
    "print(\"\")\n",
    "print(lr_confusion_matrix) "
   ]
  },
  {
   "cell_type": "markdown",
   "id": "c9cb3b5f",
   "metadata": {},
   "source": [
    "# model SVM "
   ]
  },
  {
   "cell_type": "code",
   "execution_count": 28,
   "id": "b51f72f7",
   "metadata": {},
   "outputs": [],
   "source": [
    "# from sklearn import svm\n",
    "# from sklearn.svm import SVC\n",
    "# svc=svm.SVC(kernel='rbf',C=0.01) \n",
    "# svc.fit(df_scaled,train_y_over)\n",
    "# svc_predicted=svc.predict(test_x[features_20])  \n",
    "# svc_confusion_matrix=confusion_matrix(test_y,svc_predicted) \n",
    "# svc_accuracy=accuracy_score(test_y, svc_predicted)\n",
    "# svc_recall=recall_score(test_y,svc_predicted)\n",
    "# svc_precision=precision_score(test_y,svc_predicted) \n",
    "# svc_f1score=f1_score(test_y, svc_predicted) \n",
    "# print('svc_accuracy: ', svc_accuracy)\n",
    "# print('svc_precision: ',svc_precision)\n",
    "# print('svc_recall: ' ,svc_recall)\n",
    "# print('svc_F1-score: ',svc_f1score)  \n",
    "# print(\"\")\n",
    "# print(svc_confusion_matrix) "
   ]
  },
  {
   "cell_type": "markdown",
   "id": "71f90220",
   "metadata": {},
   "source": [
    "# model knn   "
   ]
  },
  {
   "cell_type": "code",
   "execution_count": 29,
   "id": "93dcee7c",
   "metadata": {},
   "outputs": [
    {
     "name": "stdout",
     "output_type": "stream",
     "text": [
      "knn_accuracy:  0.7426328365001706\n",
      "knn_precision:  0.08098679292300025\n",
      "knn_recall:  0.27993109388458226\n",
      "knn_F1-score:  0.12562814070351758\n",
      "\n",
      "[[12729  3688]\n",
      " [  836   325]]\n"
     ]
    }
   ],
   "source": [
    "knn = KNeighborsClassifier()\n",
    "knn.fit(df_scaled, train_y_over)\n",
    "knn_predicted = knn.predict(test_x[features_20])\n",
    "knn_confusion_matrix = confusion_matrix(test_y, knn_predicted)\n",
    "knn_accuracy= accuracy_score(test_y, knn_predicted)\n",
    "knn_recall=recall_score(test_y,knn_predicted)\n",
    "knn_precision=precision_score(test_y,knn_predicted) \n",
    "knn_f1score=f1_score(test_y, knn_predicted) \n",
    "print('knn_accuracy: ', knn_accuracy)\n",
    "print('knn_precision: ',knn_precision)\n",
    "print('knn_recall: ' ,knn_recall)\n",
    "print('knn_F1-score: ',knn_f1score)  \n",
    "print(\"\") \n",
    "print(knn_confusion_matrix)"
   ]
  },
  {
   "cell_type": "code",
   "execution_count": 30,
   "id": "e4a3fd16",
   "metadata": {},
   "outputs": [
    {
     "name": "stdout",
     "output_type": "stream",
     "text": [
      "RUNNING THE L-BFGS-B CODE\n",
      "\n",
      "           * * *\n",
      "\n",
      "Machine precision = 2.220D-16\n",
      " N =         4097     M =           10\n",
      "\n",
      "At X0         0 variables are exactly at the bounds\n",
      "\n",
      "At iterate    0    f=  7.46612D-01    |proj g|=  1.77417D-01\n"
     ]
    },
    {
     "name": "stderr",
     "output_type": "stream",
     "text": [
      " This problem is unconstrained.\n"
     ]
    },
    {
     "name": "stdout",
     "output_type": "stream",
     "text": [
      "\n",
      "At iterate    1    f=  6.81863D-01    |proj g|=  1.03396D-02\n",
      "\n",
      "At iterate    2    f=  6.74944D-01    |proj g|=  8.26003D-03\n",
      "\n",
      "At iterate    3    f=  6.67652D-01    |proj g|=  9.38812D-03\n",
      "\n",
      "At iterate    4    f=  6.60522D-01    |proj g|=  8.41894D-03\n",
      "\n",
      "At iterate    5    f=  6.56960D-01    |proj g|=  1.07998D-02\n",
      "\n",
      "At iterate    6    f=  6.56140D-01    |proj g|=  2.05959D-02\n",
      "\n",
      "At iterate    7    f=  6.54685D-01    |proj g|=  8.75280D-03\n",
      "\n",
      "At iterate    8    f=  6.53159D-01    |proj g|=  4.65974D-03\n",
      "\n",
      "At iterate    9    f=  6.49970D-01    |proj g|=  6.80213D-03\n",
      "\n",
      "At iterate   10    f=  6.48161D-01    |proj g|=  4.89165D-03\n",
      "\n",
      "At iterate   11    f=  6.47153D-01    |proj g|=  4.08335D-03\n",
      "\n",
      "At iterate   12    f=  6.45481D-01    |proj g|=  3.02352D-03\n",
      "\n",
      "At iterate   13    f=  6.43124D-01    |proj g|=  2.13960D-02\n",
      "\n",
      "At iterate   14    f=  6.42120D-01    |proj g|=  1.33019D-02\n",
      "\n",
      "At iterate   15    f=  6.40956D-01    |proj g|=  4.18926D-03\n",
      "\n",
      "At iterate   16    f=  6.40465D-01    |proj g|=  2.71392D-03\n",
      "\n",
      "At iterate   17    f=  6.39680D-01    |proj g|=  8.13832D-03\n",
      "\n",
      "At iterate   18    f=  6.38513D-01    |proj g|=  7.01197D-03\n",
      "\n",
      "At iterate   19    f=  6.36682D-01    |proj g|=  2.93065D-03\n",
      "\n",
      "At iterate   20    f=  6.35238D-01    |proj g|=  4.10789D-03\n",
      "\n",
      "At iterate   21    f=  6.33755D-01    |proj g|=  5.85595D-03\n",
      "\n",
      "At iterate   22    f=  6.32931D-01    |proj g|=  1.75239D-02\n",
      "\n",
      "At iterate   23    f=  6.32223D-01    |proj g|=  5.28246D-03\n",
      "\n",
      "At iterate   24    f=  6.31625D-01    |proj g|=  4.01450D-03\n",
      "\n",
      "At iterate   25    f=  6.29791D-01    |proj g|=  8.22631D-03\n",
      "\n",
      "At iterate   26    f=  6.28761D-01    |proj g|=  3.77022D-03\n",
      "\n",
      "At iterate   27    f=  6.27825D-01    |proj g|=  5.96709D-03\n",
      "\n",
      "At iterate   28    f=  6.27220D-01    |proj g|=  6.17737D-03\n",
      "\n",
      "At iterate   29    f=  6.26281D-01    |proj g|=  5.89188D-03\n",
      "\n",
      "At iterate   30    f=  6.24999D-01    |proj g|=  6.31872D-03\n",
      "\n",
      "At iterate   31    f=  6.24050D-01    |proj g|=  4.63056D-03\n",
      "\n",
      "At iterate   32    f=  6.23423D-01    |proj g|=  7.89421D-03\n",
      "\n",
      "At iterate   33    f=  6.22379D-01    |proj g|=  6.44263D-03\n",
      "\n",
      "At iterate   34    f=  6.21447D-01    |proj g|=  1.37126D-02\n",
      "\n",
      "At iterate   35    f=  6.20450D-01    |proj g|=  5.52098D-03\n",
      "\n",
      "At iterate   36    f=  6.19740D-01    |proj g|=  5.93332D-03\n",
      "\n",
      "At iterate   37    f=  6.18584D-01    |proj g|=  7.18010D-03\n",
      "\n",
      "At iterate   38    f=  6.16874D-01    |proj g|=  1.04612D-02\n",
      "\n",
      "At iterate   39    f=  6.16429D-01    |proj g|=  1.62963D-02\n",
      "\n",
      "At iterate   40    f=  6.15712D-01    |proj g|=  8.42881D-03\n",
      "\n",
      "At iterate   41    f=  6.15321D-01    |proj g|=  4.38039D-03\n",
      "\n",
      "At iterate   42    f=  6.14818D-01    |proj g|=  7.11816D-03\n",
      "\n",
      "At iterate   43    f=  6.14004D-01    |proj g|=  5.76913D-03\n",
      "\n",
      "At iterate   44    f=  6.13644D-01    |proj g|=  1.51068D-02\n",
      "\n",
      "At iterate   45    f=  6.12744D-01    |proj g|=  7.95723D-03\n",
      "\n",
      "At iterate   46    f=  6.12111D-01    |proj g|=  5.06495D-03\n",
      "\n",
      "At iterate   47    f=  6.11345D-01    |proj g|=  1.27701D-02\n",
      "\n",
      "At iterate   48    f=  6.10594D-01    |proj g|=  7.50395D-03\n",
      "\n",
      "At iterate   49    f=  6.10123D-01    |proj g|=  6.23377D-03\n",
      "\n",
      "At iterate   50    f=  6.09406D-01    |proj g|=  8.41270D-03\n",
      "\n",
      "At iterate   51    f=  6.08524D-01    |proj g|=  1.25341D-02\n",
      "\n",
      "At iterate   52    f=  6.07967D-01    |proj g|=  1.32627D-02\n",
      "\n",
      "At iterate   53    f=  6.07556D-01    |proj g|=  6.39734D-03\n",
      "\n",
      "At iterate   54    f=  6.07242D-01    |proj g|=  6.40490D-03\n",
      "\n",
      "At iterate   55    f=  6.06683D-01    |proj g|=  6.02915D-03\n",
      "\n",
      "At iterate   56    f=  6.06164D-01    |proj g|=  5.17245D-03\n",
      "\n",
      "At iterate   57    f=  6.05354D-01    |proj g|=  1.79585D-02\n",
      "\n",
      "At iterate   58    f=  6.04845D-01    |proj g|=  7.28673D-03\n",
      "\n",
      "At iterate   59    f=  6.04526D-01    |proj g|=  6.88285D-03\n",
      "\n",
      "At iterate   60    f=  6.03745D-01    |proj g|=  8.61469D-03\n",
      "\n",
      "At iterate   61    f=  6.03343D-01    |proj g|=  7.48452D-03\n",
      "\n",
      "At iterate   62    f=  6.03062D-01    |proj g|=  5.57663D-03\n",
      "\n",
      "At iterate   63    f=  6.02654D-01    |proj g|=  6.13897D-03\n",
      "\n",
      "At iterate   64    f=  6.02217D-01    |proj g|=  8.39432D-03\n",
      "\n",
      "At iterate   65    f=  6.01836D-01    |proj g|=  9.50672D-03\n",
      "\n",
      "At iterate   66    f=  6.01582D-01    |proj g|=  6.74446D-03\n",
      "\n",
      "At iterate   67    f=  6.01157D-01    |proj g|=  3.99984D-03\n",
      "\n",
      "At iterate   68    f=  6.00609D-01    |proj g|=  4.94832D-03\n",
      "\n",
      "At iterate   69    f=  6.00378D-01    |proj g|=  2.07112D-02\n",
      "\n",
      "At iterate   70    f=  5.99709D-01    |proj g|=  7.99807D-03\n",
      "\n",
      "At iterate   71    f=  5.99367D-01    |proj g|=  5.50020D-03\n",
      "\n",
      "At iterate   72    f=  5.99101D-01    |proj g|=  1.34866D-02\n",
      "\n",
      "At iterate   73    f=  5.98718D-01    |proj g|=  1.17251D-02\n",
      "\n",
      "At iterate   74    f=  5.98421D-01    |proj g|=  6.45565D-03\n",
      "\n",
      "At iterate   75    f=  5.98165D-01    |proj g|=  5.41440D-03\n",
      "\n",
      "At iterate   76    f=  5.97787D-01    |proj g|=  8.58862D-03\n",
      "\n",
      "At iterate   77    f=  5.97506D-01    |proj g|=  2.02325D-02\n",
      "\n",
      "At iterate   78    f=  5.96998D-01    |proj g|=  1.16396D-02\n",
      "\n",
      "At iterate   79    f=  5.96794D-01    |proj g|=  5.98012D-03\n",
      "\n",
      "At iterate   80    f=  5.96588D-01    |proj g|=  5.21444D-03\n",
      "\n",
      "At iterate   81    f=  5.96305D-01    |proj g|=  7.46991D-03\n",
      "\n",
      "At iterate   82    f=  5.95861D-01    |proj g|=  8.74568D-03\n",
      "\n",
      "At iterate   83    f=  5.95689D-01    |proj g|=  1.53519D-02\n",
      "\n",
      "At iterate   84    f=  5.95444D-01    |proj g|=  6.55927D-03\n",
      "\n",
      "At iterate   85    f=  5.95259D-01    |proj g|=  6.89111D-03\n",
      "\n",
      "At iterate   86    f=  5.95040D-01    |proj g|=  1.05368D-02\n",
      "\n",
      "At iterate   87    f=  5.94511D-01    |proj g|=  8.84265D-03\n",
      "\n",
      "At iterate   88    f=  5.94064D-01    |proj g|=  7.49053D-03\n",
      "\n",
      "At iterate   89    f=  5.93553D-01    |proj g|=  5.16578D-03\n",
      "\n",
      "At iterate   90    f=  5.93270D-01    |proj g|=  1.13240D-02\n",
      "\n",
      "At iterate   91    f=  5.93230D-01    |proj g|=  1.84521D-02\n",
      "\n",
      "At iterate   92    f=  5.92968D-01    |proj g|=  6.20059D-03\n",
      "\n",
      "At iterate   93    f=  5.92885D-01    |proj g|=  6.22360D-03\n",
      "\n",
      "At iterate   94    f=  5.92661D-01    |proj g|=  6.75528D-03\n",
      "\n",
      "At iterate   95    f=  5.92240D-01    |proj g|=  1.49508D-02\n",
      "\n",
      "At iterate   96    f=  5.92098D-01    |proj g|=  1.60310D-02\n",
      "\n",
      "At iterate   97    f=  5.91834D-01    |proj g|=  5.68740D-03\n",
      "\n",
      "At iterate   98    f=  5.91686D-01    |proj g|=  6.01435D-03\n",
      "\n",
      "At iterate   99    f=  5.91478D-01    |proj g|=  6.52653D-03\n",
      "\n",
      "At iterate  100    f=  5.91144D-01    |proj g|=  6.96564D-03\n",
      "\n",
      "           * * *\n",
      "\n",
      "Tit   = total number of iterations\n",
      "Tnf   = total number of function evaluations\n",
      "Tnint = total number of segments explored during Cauchy searches\n",
      "Skip  = number of BFGS updates skipped\n",
      "Nact  = number of active bounds at final generalized Cauchy point\n",
      "Projg = norm of the final projected gradient\n",
      "F     = final function value\n",
      "\n",
      "           * * *\n",
      "\n",
      "   N    Tit     Tnf  Tnint  Skip  Nact     Projg        F\n",
      " 4097    100    109      1     0     0   6.966D-03   5.911D-01\n",
      "  F =  0.59114437751331306     \n",
      "\n",
      "STOP: TOTAL NO. of ITERATIONS REACHED LIMIT                 \n",
      "The test f1_score of Neural Network is 0.0\n",
      "The test f1_score of XGBoost is 0.12391269544799614\n",
      "The test f1_score of Decision Tree is 0.12391269544799614\n",
      "The test f1_score of Logistic Regression is 0.12482538973012239\n",
      "The test f1_score of KNN is 0.12562814070351758\n",
      "The test f1_score of Gradient Boosting is 0.0\n",
      "The test f1_score of Random Forest is 0.0017182130584192437\n",
      "The test f1_score of Ada Boosting is 0.0\n",
      "            [Select-K-Best,Oversampling]           \n"
     ]
    }
   ],
   "source": [
    "model_list = [(\"Neural Network\",mlp),(\"XGBoost\",xgb),(\"Decision Tree\",dt),(\"Logistic Regression\",lr ),\n",
    "              (\"KNN\",knn),(\"Gradient Boosting\", gb),(\"Random Forest\", rf),(\"Ada Boosting\", gb)]\n",
    "\n",
    "\n",
    "for name, model in model_list:\n",
    "    \n",
    "    model.fit(df_scaled, train_y_over)\n",
    "    \n",
    "    pred_y= model.predict(test_x[features_20])\n",
    "    \n",
    "    score = f1_score(test_y, pred_y) \n",
    "    print(f\"The test f1_score of {name} is {score}\")\n",
    "print(\"            [Select-K-Best,Oversampling]           \")"
   ]
  },
  {
   "cell_type": "code",
   "execution_count": null,
   "id": "7b0418a0",
   "metadata": {},
   "outputs": [],
   "source": []
  }
 ],
 "metadata": {
  "kernelspec": {
   "display_name": "Python 3 (ipykernel)",
   "language": "python",
   "name": "python3"
  },
  "language_info": {
   "codemirror_mode": {
    "name": "ipython",
    "version": 3
   },
   "file_extension": ".py",
   "mimetype": "text/x-python",
   "name": "python",
   "nbconvert_exporter": "python",
   "pygments_lexer": "ipython3",
   "version": "3.9.12"
  }
 },
 "nbformat": 4,
 "nbformat_minor": 5
}
